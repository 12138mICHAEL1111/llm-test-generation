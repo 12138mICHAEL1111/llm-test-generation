{
 "cells": [
  {
   "cell_type": "code",
   "execution_count": 13,
   "metadata": {},
   "outputs": [],
   "source": [
    "import re\n",
    "\n",
    "def extract_test_function_names(filepath):\n",
    "    pattern = re.compile(r\"func (Test\\w+)\\(\")\n",
    "\n",
    "    test_function_names = []\n",
    "\n",
    "    with open(filepath, \"r\") as file:\n",
    "        content = file.read()\n",
    "\n",
    "    matches = pattern.findall(content)\n",
    "    for match in matches:\n",
    "        test_function_names.append(match)\n",
    "    return test_function_names"
   ]
  },
  {
   "cell_type": "code",
   "execution_count": 14,
   "metadata": {},
   "outputs": [],
   "source": [
    "with open(\"original.txt\",'r') as original_file:\n",
    "    original = original_file.read()"
   ]
  },
  {
   "cell_type": "code",
   "execution_count": 15,
   "metadata": {},
   "outputs": [],
   "source": [
    "import subprocess\n",
    "\n",
    "command = [\n",
    "    \"go\",\n",
    "    \"test\",\n",
    "    \"-run\",\n",
    "    \"^TestEqualApprox$\",\n",
    "    \"floats/floats_test.go\",\n",
    "    \"floats/floats.go\",\n",
    "    \"-timeout\",\n",
    "    \"10s\"\n",
    "]\n",
    "\n",
    "rq2_result = {\n",
    "    \"passT\" : 0,\n",
    "    \"failT\" : 0,\n",
    "}\n",
    "\n",
    "\n",
    "def collect_error_1(function_names):\n",
    "    flag = False \n",
    "    for function_name in function_names:\n",
    "        command[3] = \"^\" + function_name+ \"$\"\n",
    "        result = subprocess.run(command, capture_output=True, text=True).stdout\n",
    "        if \"setup failed\" in result or \"build failed\" in result:\n",
    "            return False\n",
    "\n",
    "        if result[:2] != \"ok\": \n",
    "           flag = True\n",
    "        else:\n",
    "            rq2_result[\"failT\"] += 1\n",
    "    return flag      \n",
    "\n",
    "def collect_error_2(function_names):\n",
    "    for function_name in function_names:\n",
    "        command[3] = \"^\" + function_name+ \"$\"\n",
    "        result = subprocess.run(command, capture_output=True, text=True).stdout\n",
    "        if result[:2] == \"ok\":\n",
    "            rq2_result[\"passT\"] += 1\n"
   ]
  },
  {
   "cell_type": "code",
   "execution_count": 16,
   "metadata": {},
   "outputs": [],
   "source": [
    "import json\n",
    "report_file_path = \"/Users/maike/Desktop/gonum/reports.json\"\n",
    "\n",
    "with open(report_file_path,'r') as report_file:\n",
    "    report = json.load(report_file)\n",
    "\n",
    "map_killed = {}\n",
    "for killed in report[\"killed\"]:\n",
    "    map_killed[killed[\"checksum\"]] = killed[\"mutator\"][\"mutatedSourceCode\"]"
   ]
  },
  {
   "cell_type": "code",
   "execution_count": 17,
   "metadata": {},
   "outputs": [],
   "source": [
    "with open(\"/Users/maike/Desktop/llm-test-generation/rq2_completion/boltdb/completion_1.json\",'r') as completion_file:\n",
    "    completion = json.load(completion_file)"
   ]
  },
  {
   "cell_type": "code",
   "execution_count": 1,
   "metadata": {},
   "outputs": [
    {
     "ename": "SyntaxError",
     "evalue": "invalid syntax (4194753192.py, line 24)",
     "output_type": "error",
     "traceback": [
      "\u001b[0;36m  File \u001b[0;32m\"/var/folders/m0/vjs_mkwd5m7b4gvwcsmbfl6c0000gn/T/ipykernel_47622/4194753192.py\"\u001b[0;36m, line \u001b[0;32m24\u001b[0m\n\u001b[0;31m    print(f\"{rq2_result[\"passT\"]}/{rq2_result[\"passT\"] + rq2_result[\"failT\"]} ()\")\u001b[0m\n\u001b[0m    ^\u001b[0m\n\u001b[0;31mSyntaxError\u001b[0m\u001b[0;31m:\u001b[0m invalid syntax\n"
     ]
    }
   ],
   "source": [
    "from tqdm import tqdm\n",
    "\n",
    "\n",
    "test_file_path = \"/Users/maike/Desktop/gonum/floats/floats_test.go\"\n",
    "source_file_path = \"/Users/maike/Desktop/gonum/floats/floats.go\" \n",
    "        \n",
    "for checksum in tqdm(completion):\n",
    "    with open(test_file_path,'w') as test_file:\n",
    "        test_file.write(completion[checksum])\n",
    "    \n",
    "    with open(source_file_path,'w') as source_file:\n",
    "        source_file.write(map_killed[checksum])\n",
    "    \n",
    "    function_names = extract_test_function_names(test_file_path)\n",
    "    \n",
    "    r = collect_error_1(function_names)\n",
    "    \n",
    "    if r == True:\n",
    "        with open(source_file_path,'w') as source_file:\n",
    "            source_file.write(original)\n",
    "        collect_error_2(function_names)  \n",
    "\n",
    "rate = rq2_result[\"passT\"]/(rq2_result[\"passT\"] + rq2_result[\"failT\"])\n",
    "print(f\"{rq2_result[\"passT\"]}/{rq2_result[\"passT\"] + rq2_result[\"failT\"]} ({rate})\")"
   ]
  },
  {
   "cell_type": "code",
   "execution_count": null,
   "metadata": {},
   "outputs": [],
   "source": []
  }
 ],
 "metadata": {
  "kernelspec": {
   "display_name": "base",
   "language": "python",
   "name": "python3"
  },
  "language_info": {
   "codemirror_mode": {
    "name": "ipython",
    "version": 3
   },
   "file_extension": ".py",
   "mimetype": "text/x-python",
   "name": "python",
   "nbconvert_exporter": "python",
   "pygments_lexer": "ipython3",
   "version": "3.9.13"
  }
 },
 "nbformat": 4,
 "nbformat_minor": 2
}
