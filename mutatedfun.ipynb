{
 "cells": [
  {
   "cell_type": "code",
   "execution_count": 36,
   "metadata": {},
   "outputs": [],
   "source": [
    "def extract_substring_checksum(text):\n",
    "    start_index = text.find(\"checksum\")\n",
    "    \n",
    "    if start_index != -1:\n",
    "        start_index += 9  \n",
    "\n",
    "    return text[start_index:len(text)-1]\n"
   ]
  },
  {
   "cell_type": "code",
   "execution_count": 37,
   "metadata": {},
   "outputs": [],
   "source": [
    "import json\n",
    "    \n",
    "with open('/Users/maike/Desktop/fastjson/report.json', 'r') as file:\n",
    "    data = json.load(file)\n",
    "\n",
    "for killed in data[\"killed\"]:\n",
    "    killed[\"checksum\"] = extract_substring_checksum(killed[\"processOutput\"])\n",
    "\n",
    "with open('/Users/maike/Desktop/fastjson/reports.json',\"w\") as f:\n",
    "    json.dump(data,f)"
   ]
  },
  {
   "cell_type": "code",
   "execution_count": 14,
   "metadata": {},
   "outputs": [],
   "source": [
    "def extract_substring_line(text):\n",
    "    start_index = text.find(\"@@\\n\")\n",
    "    \n",
    "    if start_index != -1:\n",
    "        start_index += 3  \n",
    "    else:\n",
    "        return \"未找到 '@@\\\\n'\"\n",
    "\n",
    "    end_index = text.find(\"\\n-\")\n",
    "    \n",
    "    if end_index == -1:\n",
    "        return \"未找到 '\\\\n-'\"\n",
    "\n",
    "    return text[start_index:end_index]\n"
   ]
  },
  {
   "cell_type": "code",
   "execution_count": 35,
   "metadata": {},
   "outputs": [],
   "source": [
    "import re\n",
    "import json\n",
    "\n",
    "REPO = \"boltdb\"\n",
    "\n",
    "with open(\"/Users/maike/go/src/github.com/boltdb/bolt/db.go\", 'r') as file:\n",
    "    lines = file.readlines()\n",
    "    \n",
    "with open('/Users/maike/go/src/github.com/boltdb/bolt/reports.json', 'r') as file:\n",
    "    data = json.load(file)\n",
    "\n",
    "function_pattern = re.compile(r'^func(?:\\s+\\(\\s*\\w+\\s+\\*?\\w+\\s*\\))?(\\s+\\w+)')\n",
    "\n",
    "m ={}\n",
    "for killed in data[\"killed\"]:\n",
    "    match = re.search(r'-([0-9]+),', killed[\"diff\"])\n",
    "\n",
    "    number = int(match.group(1)) \n",
    "    \n",
    "    sub = extract_substring(killed[\"diff\"])\n",
    "    number = number + sub.count('\\n') + 1\n",
    "\n",
    "    function_name = \"\"\n",
    "    for i in range(number - 1, -1, -1):  #\n",
    "        match = function_pattern.search(lines[i])\n",
    "        if match:\n",
    "            function_name = match.group(1).strip()  # \n",
    "            break\n",
    "    \n",
    "    if  function_name == \"\":\n",
    "        continue\n",
    "    \n",
    "    if REPO == \"boltdb\":\n",
    "        if function_name == \"Error\":\n",
    "            continue\n",
    "        if not function_name[0].isupper():\n",
    "            continue\n",
    "\t\t\t\t\n",
    "    m[killed[\"checksum\"]] = function_name\n",
    "    \n",
    "with open(\"function_names.json\",\"w\") as f:\n",
    "    json.dump(m,f)"
   ]
  }
 ],
 "metadata": {
  "kernelspec": {
   "display_name": "base",
   "language": "python",
   "name": "python3"
  },
  "language_info": {
   "codemirror_mode": {
    "name": "ipython",
    "version": 3
   },
   "file_extension": ".py",
   "mimetype": "text/x-python",
   "name": "python",
   "nbconvert_exporter": "python",
   "pygments_lexer": "ipython3",
   "version": "3.9.13"
  }
 },
 "nbformat": 4,
 "nbformat_minor": 2
}
